{
  "nbformat": 4,
  "nbformat_minor": 0,
  "metadata": {
    "colab": {
      "name": "CyP_08_12_2020.ipynb",
      "provenance": [],
      "authorship_tag": "ABX9TyMnRpiICAIuyx+cGb6lFQR+",
      "include_colab_link": true
    },
    "kernelspec": {
      "name": "python3",
      "display_name": "Python 3"
    }
  },
  "cells": [
    {
      "cell_type": "markdown",
      "metadata": {
        "id": "view-in-github",
        "colab_type": "text"
      },
      "source": [
        "<a href=\"https://colab.research.google.com/github/shiningharbor/CyP_08_12_2020/blob/main/CyP_08_12_2020.ipynb\" target=\"_parent\"><img src=\"https://colab.research.google.com/assets/colab-badge.svg\" alt=\"Open In Colab\"/></a>"
      ]
    },
    {
      "cell_type": "code",
      "metadata": {
        "id": "RhRf6Itwa66j"
      },
      "source": [
        ""
      ],
      "execution_count": null,
      "outputs": []
    },
    {
      "cell_type": "code",
      "metadata": {
        "colab": {
          "base_uri": "https://localhost:8080/"
        },
        "id": "_NP60zAlbClE",
        "outputId": "0c654d59-70df-4234-e6e9-4c3357ea1c23"
      },
      "source": [
        "suma_gas=0\r\n",
        "gasto= float(input(\"Introduse un gasto: \"))\r\n",
        "while( gasto != -1):\r\n",
        "  suma_gas = suma_gas + gasto\r\n",
        "  gasto = float(input(\"Introduce un gasto: \"))\r\n",
        "print(f\"La suma total es {suma_gas} pesos\")"
      ],
      "execution_count": null,
      "outputs": [
        {
          "output_type": "stream",
          "text": [
            "Introduse un gasto: 1.1\n",
            "Introduce un gasto: 2.2\n",
            "Introduce un gasto: 1.1\n",
            "Introduce un gasto: -1\n",
            "La suma total es 4.4 pesos\n"
          ],
          "name": "stdout"
        }
      ]
    },
    {
      "cell_type": "code",
      "metadata": {
        "colab": {
          "base_uri": "https://localhost:8080/"
        },
        "id": "61u_3zlBb5eo",
        "outputId": "6da11cf9-81f5-4409-c89b-a2b4a4b70f49"
      },
      "source": [
        "num = 0\r\n",
        "cub = 0\r\n",
        "num = float(input(\"Introduse un numero: \"))\r\n",
        "while num != -1:\r\n",
        "  cub = num **3\r\n",
        "  print(f\"El cubo del numero {num} es: {cub}\")\r\n",
        "  num = float(input(\"Introduse un numero: \"))\r\n",
        "print(\"Fin del programa\")"
      ],
      "execution_count": null,
      "outputs": [
        {
          "output_type": "stream",
          "text": [
            "Introduse un numero: 5\n",
            "El cubo del numero 5.0 es: 125.0\n",
            "Introduse un numero: -1\n",
            "Fin del programa\n"
          ],
          "name": "stdout"
        }
      ]
    },
    {
      "cell_type": "code",
      "metadata": {
        "colab": {
          "base_uri": "https://localhost:8080/"
        },
        "id": "RnvJ0iEzfbRl",
        "outputId": "ee9d3012-277c-4939-a459-33e954b33476"
      },
      "source": [
        "#problema 3.1\r\n",
        "num= 0\r\n",
        "sumpar= 0\r\n",
        "sumimp = 0\r\n",
        "cuepar = 0\r\n",
        "I = 1\r\n",
        "while I <= 5:\r\n",
        "  num = int(input(\"Intrduce un numero entero: \"))\r\n",
        "  if num != 0:\r\n",
        "    if ((-1)**num) > 0: #num % 2\r\n",
        "      sumpar = sumpar + num\r\n",
        "      cuepar = cuepar + 1\r\n",
        "    else:\r\n",
        "      sumimp = sumimp + num\r\n",
        "  I = I + 1\r\n",
        "propar = sumpar / cuepar\r\n",
        "print(f\"El promedio de los pares es: {propar}\")\r\n",
        "print(f\"La sumade los impares {sumimp}\")"
      ],
      "execution_count": null,
      "outputs": [
        {
          "output_type": "stream",
          "text": [
            "Intrduce un numero entero: 1\n",
            "Intrduce un numero entero: 2\n",
            "Intrduce un numero entero: 3\n",
            "Intrduce un numero entero: 4\n",
            "Intrduce un numero entero: 5\n",
            "El promedio de los pares es: 3.0\n",
            "La sumade los impares 3\n"
          ],
          "name": "stdout"
        }
      ]
    },
    {
      "cell_type": "code",
      "metadata": {
        "id": "RbYQSt1QlwFz"
      },
      "source": [
        "band = True\r\n",
        "sumser = 0\r\n",
        "I = 2\r\n",
        "while I <= 1800:\r\n",
        "  sumser = sumser + I\r\n",
        "  print(f\"{I}, \", end= \"\")\r\n",
        "  if band:\r\n",
        "    band == True\r\n",
        "    band = False\r\n",
        "\r\n"
      ],
      "execution_count": null,
      "outputs": []
    }
  ]
}